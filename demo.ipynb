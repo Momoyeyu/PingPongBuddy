{
 "cells": [
  {
   "cell_type": "markdown",
   "id": "f91f9f1e-70e4-4f90-916b-d1f2073024bb",
   "metadata": {},
   "source": [
    "# 友小智——PingPongBuddy\n",
    "\n",
    "友小智——PingPongBuddy是一款支持乒乓球友约球的智能体，采用Langchain框架进行开发，模型选择了智谱的GLM-4-Flash。"
   ]
  },
  {
   "cell_type": "markdown",
   "id": "ca5fa290-1d68-4bbe-99f6-da44a756a453",
   "metadata": {},
   "source": [
    "## 引入依赖"
   ]
  },
  {
   "cell_type": "code",
   "id": "1be80204-265c-4c37-9367-8c443db9d098",
   "metadata": {
    "ExecuteTime": {
     "end_time": "2025-05-09T16:31:16.785690Z",
     "start_time": "2025-05-09T16:31:16.102636Z"
    }
   },
   "source": [
    "from langchain_openai import ChatOpenAI\n",
    "from langchain.prompts import ChatPromptTemplate\n",
    "from langchain_core.runnables import RunnablePassthrough\n",
    "import psycopg2\n",
    "from psycopg2.extras import RealDictCursor\n",
    "from langchain.tools import tool\n",
    "import json\n",
    "import os"
   ],
   "outputs": [
    {
     "name": "stderr",
     "output_type": "stream",
     "text": [
      "/Users/momoyeyu/miniconda3/envs/agent/lib/python3.9/site-packages/requests/__init__.py:86: RequestsDependencyWarning: Unable to find acceptable character detection dependency (chardet or charset_normalizer).\n",
      "  warnings.warn(\n"
     ]
    }
   ],
   "execution_count": 1
  },
  {
   "cell_type": "markdown",
   "id": "44238b52-67eb-4906-b5c9-91c1e2150c35",
   "metadata": {},
   "source": [
    "引入环境变量"
   ]
  },
  {
   "cell_type": "code",
   "id": "cb99e495-136f-4c37-9c3e-bb5e3241918d",
   "metadata": {
    "ExecuteTime": {
     "end_time": "2025-05-09T16:31:16.872962Z",
     "start_time": "2025-05-09T16:31:16.868032Z"
    }
   },
   "source": [
    "from dotenv import load_dotenv\n",
    "load_dotenv();"
   ],
   "outputs": [],
   "execution_count": 2
  },
  {
   "cell_type": "markdown",
   "id": "e6d9c48b-b00a-470a-82ea-57a81db4dcaf",
   "metadata": {},
   "source": [
    "## 数据库\n",
    "\n",
    "为了存储约球信息，需要让智能体能够使用数据库。简单起见，数据库我们选择PostgreSQL，并实现对应的工具。"
   ]
  },
  {
   "cell_type": "code",
   "id": "ed10dbed-ebe2-43dc-a12c-664d88a7cb02",
   "metadata": {
    "ExecuteTime": {
     "end_time": "2025-05-09T16:31:16.889284Z",
     "start_time": "2025-05-09T16:31:16.881139Z"
    }
   },
   "source": [
    "class PingPongDatabase:\n",
    "    def __init__(self, dbname, user, password, host=\"localhost\", port=\"5432\"):\n",
    "        self.dbname = dbname\n",
    "        self.conn_params = {\"dbname\": dbname, \"user\": user, \"password\": password, \"host\": host, \"port\": port}\n",
    "        self.default_conn_params = {\"dbname\": \"postgres\", \"user\": user, \"password\": password, \"host\": host, \"port\": port}\n",
    "        self.conn = None\n",
    "        self.cursor = None\n",
    "\n",
    "    def _create_database(self):\n",
    "        try:\n",
    "            conn = psycopg2.connect(**self.default_conn_params)\n",
    "            conn.autocommit = True\n",
    "            cursor = conn.cursor()\n",
    "            cursor.execute(\"SELECT 1 FROM pg_database WHERE datname = %s\", (self.dbname,))\n",
    "            if not cursor.fetchone():\n",
    "                cursor.execute(f\"CREATE DATABASE {self.dbname}\")\n",
    "            cursor.close()\n",
    "            conn.close()\n",
    "        except Exception as e:\n",
    "            raise Exception(f\"Error creating database: {e}\")\n",
    "\n",
    "    def connect(self):\n",
    "        try:\n",
    "            self._create_database()\n",
    "            self.conn = psycopg2.connect(**self.conn_params)\n",
    "            self.cursor = self.conn.cursor(cursor_factory=RealDictCursor)\n",
    "            self._create_table()\n",
    "        except Exception as e:\n",
    "            raise Exception(f\"Database connection error: {e}\")\n",
    "\n",
    "    def _create_table(self):\n",
    "        create_tables_query = \"\"\"\n",
    "        CREATE TABLE IF NOT EXISTS users (\n",
    "            user_id SERIAL PRIMARY KEY,\n",
    "            username VARCHAR(100) NOT NULL,\n",
    "            contact VARCHAR(100),\n",
    "            created_at TIMESTAMP DEFAULT CURRENT_TIMESTAMP\n",
    "        );\n",
    "\n",
    "        -- 创建ENUM类型（如果不存在）\n",
    "        DO $$\n",
    "        BEGIN\n",
    "            IF NOT EXISTS (SELECT 1 FROM pg_type WHERE typname = 'request_status') THEN\n",
    "                CREATE TYPE request_status AS ENUM ('open', 'closed', 'cancelled', 'matched');\n",
    "            END IF;\n",
    "        END $$;\n",
    "\n",
    "        CREATE TABLE IF NOT EXISTS pingpong_requests (\n",
    "            request_id SERIAL PRIMARY KEY,\n",
    "            user_id INT NOT NULL,\n",
    "            time DATE NOT NULL,\n",
    "            place VARCHAR(100) NOT NULL,\n",
    "            status request_status NOT NULL DEFAULT 'open',\n",
    "            created_at TIMESTAMP DEFAULT CURRENT_TIMESTAMP,\n",
    "            updated_at TIMESTAMP DEFAULT CURRENT_TIMESTAMP,\n",
    "            FOREIGN KEY (user_id) REFERENCES users(user_id) ON DELETE CASCADE\n",
    "        );\n",
    "\n",
    "        -- 创建索引（如果不存在）\n",
    "        CREATE INDEX IF NOT EXISTS idx_pingpong_requests_time_place ON pingpong_requests (time, place);\n",
    "        CREATE INDEX IF NOT EXISTS idx_pingpong_requests_user_id ON pingpong_requests (user_id);\n",
    "        CREATE INDEX IF NOT EXISTS idx_pingpong_requests_status ON pingpong_requests (status);\n",
    "\n",
    "        -- 创建函数（如果不存在）\n",
    "        CREATE OR REPLACE FUNCTION update_updated_at_column()\n",
    "        RETURNS TRIGGER AS $$\n",
    "        BEGIN\n",
    "            NEW.updated_at = now();\n",
    "            RETURN NEW;\n",
    "        END;\n",
    "        $$ language 'plpgsql';\n",
    "\n",
    "        -- 创建触发器（如果不存在）\n",
    "        DO $$\n",
    "        BEGIN\n",
    "            IF NOT EXISTS (\n",
    "                SELECT 1\n",
    "                FROM pg_trigger\n",
    "                WHERE tgrelid = 'pingpong_requests'::regclass\n",
    "                AND tgname = 'update_pingpong_requests_updated_at'\n",
    "            ) THEN\n",
    "                CREATE TRIGGER update_pingpong_requests_updated_at\n",
    "                BEFORE UPDATE ON pingpong_requests\n",
    "                FOR EACH ROW EXECUTE PROCEDURE update_updated_at_column();\n",
    "            END IF;\n",
    "        END $$;\n",
    "        \"\"\"\n",
    "        self.cursor.execute(create_tables_query)\n",
    "        self.conn.commit()\n",
    "    def store_request(self, user_id, time, place):\n",
    "        insert_query = \"\"\"\n",
    "        INSERT INTO pingpong_requests (user_id, time, place, status)\n",
    "        VALUES (%s, %s, %s, 'open')\n",
    "        RETURNING request_id;\n",
    "        \"\"\"\n",
    "        self.cursor.execute(insert_query, (user_id, time, place))\n",
    "        self.conn.commit()\n",
    "        return self.cursor.fetchone()['request_id']\n",
    "\n",
    "    def find_matches(self, time, place):\n",
    "        select_query = \"\"\"\n",
    "        SELECT\n",
    "            r.request_id,\n",
    "            r.user_id,\n",
    "            u.username,\n",
    "            u.contact,\n",
    "            r.time::TEXT,\n",
    "            r.place,\n",
    "            r.status::TEXT,\n",
    "            r.created_at::TEXT,\n",
    "            r.updated_at::TEXT,\n",
    "            ABS(EXTRACT(EPOCH FROM (r.time::TIMESTAMP - %s::TIMESTAMP))) AS time_distance\n",
    "        FROM pingpong_requests r\n",
    "        JOIN users u ON r.user_id = u.user_id\n",
    "        WHERE r.place = %s\n",
    "          AND r.status = 'open'\n",
    "        ORDER BY time_distance ASC;\n",
    "        \"\"\"\n",
    "        self.cursor.execute(select_query, (time, place))\n",
    "        return self.cursor.fetchall()\n",
    "\n",
    "    def add_user(self, username, contact=None):\n",
    "        insert_query = \"\"\"\n",
    "        INSERT INTO users (username, contact)\n",
    "        VALUES (%s, %s)\n",
    "        RETURNING user_id;\n",
    "        \"\"\"\n",
    "        self.cursor.execute(insert_query, (username, contact))\n",
    "        self.conn.commit()\n",
    "        return self.cursor.fetchone()['user_id']\n",
    "\n",
    "    def close(self):\n",
    "        if self.cursor:\n",
    "            self.cursor.close()\n",
    "        if self.conn:\n",
    "            self.conn.close()"
   ],
   "outputs": [],
   "execution_count": 3
  },
  {
   "cell_type": "markdown",
   "id": "c488c7a2-2a41-4214-a875-bf0b81fe0cca",
   "metadata": {},
   "source": [
    "LangChain 数据库工具"
   ]
  },
  {
   "cell_type": "code",
   "id": "4d39641b-67df-463c-928d-2c2aff793b9a",
   "metadata": {
    "ExecuteTime": {
     "end_time": "2025-05-09T16:31:16.908575Z",
     "start_time": "2025-05-09T16:31:16.897250Z"
    }
   },
   "source": [
    "@tool\n",
    "def pingpong_db_tool(action: str, params: dict) -> str:\n",
    "    \"\"\"\n",
    "    Tool to interact with the PingPongBuddy database.\n",
    "    Actions: store_request, find_matches, add_user.\n",
    "    Params: Dictionary containing required parameters for the action.\n",
    "        - store_request's params: {\"user_id\": int, \"time\": str, \"place\": str}\n",
    "        - find_matches's params: {\"time\": str, \"place\": str}\n",
    "        - add_user's params: {\"username\": str, \"contact\": str (optional)}\n",
    "    Returns: JSON string with the result or error message.\n",
    "    \"\"\"\n",
    "    try:\n",
    "        # 初始化数据库（假设从环境变量获取配置）\n",
    "        from dotenv import load_dotenv\n",
    "        import os\n",
    "        load_dotenv()\n",
    "        db = PingPongDatabase(\n",
    "            dbname=os.getenv(\"DB_NAME\", \"pingpongbuddy\"),\n",
    "            user=os.getenv(\"DB_USER\"),\n",
    "            password=os.getenv(\"DB_PASSWORD\"),\n",
    "            host=os.getenv(\"DB_HOST\", \"localhost\"),\n",
    "            port=os.getenv(\"DB_PORT\", \"5432\")\n",
    "        )\n",
    "        db.connect()\n",
    "\n",
    "        if action == \"store_request\":\n",
    "            required = [\"user_id\", \"time\", \"place\"]\n",
    "            if not all(key in params for key in required):\n",
    "                return json.dumps({\"error\": \"Missing required parameters: user_id, time, place\"})\n",
    "            request_id = db.store_request(params[\"user_id\"], params[\"time\"], params[\"place\"])\n",
    "            return json.dumps({\"status\": \"success\", \"request_id\": request_id})\n",
    "\n",
    "        elif action == \"find_matches\":\n",
    "            required = [\"time\", \"place\"]\n",
    "            if not all(key in params for key in required):\n",
    "                return json.dumps({\"error\": \"Missing required parameters: time, place\"})\n",
    "            matches = db.find_matches(params[\"time\"], params[\"place\"])\n",
    "            return json.dumps({\"status\": \"success\", \"matches\": matches})\n",
    "\n",
    "        elif action == \"add_user\":\n",
    "            required = [\"username\"]\n",
    "            if not all(key in params for key in required):\n",
    "                return json.dumps({\"error\": \"Missing required parameter: username\"})\n",
    "            user_id = db.add_user(params[\"username\"], params.get(\"contact\"))\n",
    "            return json.dumps({\"status\": \"success\", \"user_id\": user_id})\n",
    "\n",
    "        else:\n",
    "            return json.dumps({\"error\": f\"Unknown action: {action}\"})\n",
    "\n",
    "    except Exception as e:\n",
    "        return json.dumps({\"error\": str(e)})\n",
    "    finally:\n",
    "        db.close()"
   ],
   "outputs": [],
   "execution_count": 4
  },
  {
   "cell_type": "markdown",
   "id": "f4937ec0-7deb-4115-8526-b6e6de54f0cb",
   "metadata": {},
   "source": [
    "初始化数据库"
   ]
  },
  {
   "cell_type": "code",
   "id": "614d95b0-3cf6-4a3e-8b2a-b679a0fbb479",
   "metadata": {
    "ExecuteTime": {
     "end_time": "2025-05-09T16:31:16.960163Z",
     "start_time": "2025-05-09T16:31:16.916594Z"
    }
   },
   "source": [
    "db = PingPongDatabase(\n",
    "    dbname=os.getenv(\"DB_NAME\"),\n",
    "    user=os.getenv(\"DB_USER\"),\n",
    "    password=os.getenv(\"DB_PASSWORD\"),\n",
    "    host=os.getenv(\"DB_HOST\", \"localhost\"),\n",
    "    port=os.getenv(\"DB_PORT\", \"5432\")\n",
    ")\n",
    "db.connect()"
   ],
   "outputs": [],
   "execution_count": 5
  },
  {
   "cell_type": "markdown",
   "id": "3274234d-deb0-4543-82ba-f2650bf79ee1",
   "metadata": {},
   "source": [
    "## 智能体定义"
   ]
  },
  {
   "cell_type": "code",
   "id": "b2c8b32b-6b93-4f12-b11e-71e7a7bec46b",
   "metadata": {
    "ExecuteTime": {
     "end_time": "2025-05-09T16:31:16.971527Z",
     "start_time": "2025-05-09T16:31:16.969049Z"
    }
   },
   "source": [
    "prompt_template = ChatPromptTemplate(\n",
    "    [\n",
    "        ('system', \"你是一个乒乓球约球助手，当用户想要约球时，你会将用户的请求存储到数据库中，并帮助用户寻找合适的球友。\"),\n",
    "        ('human', \"我想要在{time}、{place}打乒乓球，请你帮我寻找合适的球友。\")\n",
    "    ]\n",
    ")"
   ],
   "outputs": [],
   "execution_count": 6
  },
  {
   "cell_type": "code",
   "id": "01e4655a-979e-4316-a738-439b28b5532a",
   "metadata": {
    "ExecuteTime": {
     "end_time": "2025-05-09T16:31:17.218277Z",
     "start_time": "2025-05-09T16:31:16.980767Z"
    }
   },
   "source": [
    "model = ChatOpenAI(\n",
    "    model = 'glm-4-flash',\n",
    "    openai_api_base = \"https://open.bigmodel.cn/api/paas/v4\",\n",
    "    max_tokens = 500,\n",
    "    temperature = 0.7\n",
    ")"
   ],
   "outputs": [],
   "execution_count": 7
  },
  {
   "cell_type": "code",
   "id": "f8850924-5bc5-4a4a-8718-77b2a05c5ec1",
   "metadata": {
    "ExecuteTime": {
     "end_time": "2025-05-09T16:31:17.231139Z",
     "start_time": "2025-05-09T16:31:17.228424Z"
    }
   },
   "source": [
    "def output_parser(output):\n",
    "    parser_model = ChatOpenAI(\n",
    "        model = 'glm-3-turbo',\n",
    "        temperature = 0.3,\n",
    "        openai_api_base = \"https://open.bigmodel.cn/api/paas/v4\"\n",
    "    )\n",
    "    message = \"你需要将传入的文本进行改写，尽可能地更加自然简洁，专注于关键信息。这是你需要改写的文本:`{text}`\"\n",
    "    return parser_model.invoke(message.format(text=output))"
   ],
   "outputs": [],
   "execution_count": 8
  },
  {
   "cell_type": "code",
   "id": "a8323f55-e3ac-4eb8-afaa-38048112ce55",
   "metadata": {
    "ExecuteTime": {
     "end_time": "2025-05-09T16:31:17.247617Z",
     "start_time": "2025-05-09T16:31:17.245440Z"
    }
   },
   "source": [
    "chain = (\n",
    "    prompt_template\n",
    "    | model\n",
    "    | output_parser\n",
    ")"
   ],
   "outputs": [],
   "execution_count": 9
  },
  {
   "cell_type": "markdown",
   "id": "94853a40-31ab-4fe7-96dd-03addbcac882",
   "metadata": {},
   "source": [
    "## 测试"
   ]
  },
  {
   "cell_type": "code",
   "id": "5d74db3a-f0d7-42be-b655-feb159d1dd00",
   "metadata": {
    "ExecuteTime": {
     "end_time": "2025-05-09T16:31:26.844067Z",
     "start_time": "2025-05-09T16:31:17.260369Z"
    }
   },
   "source": [
    "response = chain.invoke({\"time\": \"2025-05-10 14:00\", \"place\": \"北京邮电大学体育馆\"})\n",
    "print(response.content)"
   ],
   "outputs": [
    {
     "name": "stdout",
     "output_type": "stream",
     "text": [
      "您的约球请求已收到。以下是寻找合适球友的步骤：\n",
      "\n",
      "1. 信息收集：您的信息将存储在数据库中，包括日期（2025-05-10）、时间（14:00）、地点（北京邮电大学体育馆）和乒乓球水平（请提供）。\n",
      "\n",
      "2. 匹配系统：我们将使用系统寻找与您信息相符且水平相近的球友。\n",
      "\n",
      "3. 通知用户：找到合适球友后，我们会通过您提供的联系方式通知您。\n",
      "\n",
      "请提供您的乒乓球水平和联系方式（如手机号码或电子邮箱），以便我们为您安排合适的球友。\n"
     ]
    }
   ],
   "execution_count": 10
  }
 ],
 "metadata": {
  "kernelspec": {
   "display_name": "Python 3 (ipykernel)",
   "language": "python",
   "name": "python3"
  },
  "language_info": {
   "codemirror_mode": {
    "name": "ipython",
    "version": 3
   },
   "file_extension": ".py",
   "mimetype": "text/x-python",
   "name": "python",
   "nbconvert_exporter": "python",
   "pygments_lexer": "ipython3",
   "version": "3.9.21"
  }
 },
 "nbformat": 4,
 "nbformat_minor": 5
}
